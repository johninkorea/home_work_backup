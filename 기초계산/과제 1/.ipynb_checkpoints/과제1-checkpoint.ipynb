{
 "cells": [
  {
   "cell_type": "code",
   "execution_count": 1,
   "id": "aerial-consensus",
   "metadata": {},
   "outputs": [],
   "source": [
    "# 모듈 임포트\n",
    "import numpy as np"
   ]
  },
  {
   "cell_type": "code",
   "execution_count": 2,
   "id": "induced-psychology",
   "metadata": {},
   "outputs": [],
   "source": [
    "# 파일 읽어 오기\n",
    "with open(\"cfa2.dat\",'r') as ta:\n",
    "    a=ta.readlines()\n",
    "    \n",
    "\n",
    "del a[:11]    # 맨윗쪽에 불필요한 부분 지우기\n",
    "calunms=a[0]   # 칼럼 이름 저장\n",
    "calunms=calunms.split()\n",
    "del a[:2]   # 칼럼 지우기"
   ]
  },
  {
   "cell_type": "code",
   "execution_count": 3,
   "id": "fitted-lithuania",
   "metadata": {},
   "outputs": [],
   "source": [
    "# 거리 구하는 함수 정의   1Mpc=1, 1s=1\n",
    "km=3.0862e-19  #Mpc\n",
    "H0=70*km  #/s/(Mpc)\n",
    "def Vh(v):\n",
    "    V=v*km\n",
    "    D=V/H0\n",
    "    if D<0:\n",
    "        D=0\n",
    "    return D\n",
    "# 실린더 좌표 구하기\n",
    "def RZ(ra,dec,d):\n",
    "    R=float(d*np.cos(ra))\n",
    "    Z=float(d*np.sin(dec))\n",
    "    return R,Z"
   ]
  },
  {
   "cell_type": "code",
   "execution_count": 4,
   "id": "hairy-recommendation",
   "metadata": {},
   "outputs": [
    {
     "name": "stdout",
     "output_type": "stream",
     "text": [
      "820\n",
      "5073\n",
      "5908\n",
      "6405\n",
      "6456\n",
      "8805\n",
      "8806\n",
      "10174\n",
      "12696\n",
      "13091\n",
      "13539\n",
      "13594\n",
      "15008\n",
      "15739\n",
      "16095\n",
      "16322\n"
     ]
    }
   ],
   "source": [
    "# 실린더 좌표계에서 인덱싱을 해야히기때문에 담을 시스트를 만든다\n",
    "R_list=[]\n",
    "Z_list=[]\n",
    "D_list=[]\n",
    "\n",
    "# 파일 만들엇 작성하기\n",
    "file=open(\"new_tabel.txt\",'w')\n",
    "\n",
    "# 칼럼 먼저 입력\n",
    "# file.write(f\"{calunms[0]}\\t{calunms[1]}\\t\\t{calunms[3]}\\t\\t{calunms[5]}\\n\")\n",
    "\n",
    "# 0번째 줄부터 순차적으로 인덱싱및 계산 하기\n",
    "z=0\n",
    "while z<len(a):\n",
    "    if (a[z][31:36]=='     ' ) or (a[z][0:10]=='01124+0010') :  # 속도 부분이 비어있으면 넘기기(저장도 안하는것)\n",
    "        print(z+14)\n",
    "        pass \n",
    "    else:\n",
    "        a_list=a[z].split()    # 하나의 줄에서 띄어쓰기로 분리하기\n",
    "        if len(a_list[0])>11:  # 앞에 이름이 길어서, 특정 길이 이상이면 순서대로 자름; 근데 여기서 N이 방향인가?\n",
    "            a1,a2=a_list[0][:11],a_list[0][11:]\n",
    "            a_list[0]=a1\n",
    "            a_list.insert(1,a2)\n",
    "        if len(a_list[0])<2:  # 이름이 잛고 쪼개진거 다시 붙이기\n",
    "            a_list_alpha=a_list\n",
    "            a_list[0]=a_list_alpha[0]+a_list_alpha[1]\n",
    "            a_list[1]=a_list_alpha[2]\n",
    "            a_list[2]=a_list_alpha[3]\n",
    "            a_list[3]=a_list_alpha[4]\n",
    "        if  '-' in a_list[1]:  #좌표중에 -기호가 듸어쓰기가 안되어있음; 이거뜯기\n",
    "            a3,a4=a_list[1][:8],a_list[1][8:]\n",
    "            a_list[1]=a3\n",
    "            a_list.insert(2,a4)\n",
    "        if  '+' in a_list[1]:  #좌표중에 -기호가 듸어쓰기가 안되어있음; 이거뜯기\n",
    "            a3,a4=a_list[1][:8],a_list[1][8:]\n",
    "            a_list[1]=a3\n",
    "            a_list.insert(2,a4)\n",
    "        if len(a_list[2])>11:  # 앞에 이름이 길어서, 특정 길이 이상이면 순서대로 자름;\n",
    "            a5,a6=a_list[2][:11],a_list[2][11:]\n",
    "            a_list[2]=a5\n",
    "            a_list.insert(3,a6)\n",
    "        \n",
    "\n",
    "        # 변환전         이름          적경          적위       시선속도(km/s)\n",
    "#         file.write(f\"{a_list[0]}\\t{a_list[1]}\\t{a_list[2]}\\t{a_list[3]}\\n\") # 파일에 작성\n",
    "\n",
    "        # 계산 파트\n",
    "        # 적경 계산하기\n",
    "        RA_h=float(a_list[1][:2])\n",
    "        RA_m=float(a_list[1][2:4])\n",
    "        RA_s=float(a_list[1][4:])\n",
    "        RA=RA_h*15+RA_m*15/60+RA_s*15/3600\n",
    "        # 적위 계산하기\n",
    "        if '-' in a_list[2]:\n",
    "            Dec_d=float(a_list[2][:3])\n",
    "            Dec_m=float(a_list[2][3:5])\n",
    "            Dec_s=float(a_list[2][5:7])\n",
    "        else:\n",
    "            Dec_d=float(a_list[2][:2])\n",
    "            Dec_m=float(a_list[2][2:4])\n",
    "            Dec_s=float(a_list[2][4:6])\n",
    "        Dec=Dec_d+Dec_m*15/60+Dec_s*15/3600\n",
    "\n",
    "        D=Vh(float(a_list[3][:7]))\n",
    "\n",
    "        #               이름       적경    적위   거리\n",
    "        file.write(f\"{a_list[0]}\\t{RA}\\t{Dec}\\t{D}\\n\") # 파일에 작성\n",
    "        R,Z=RZ(RA, Dec, D)\n",
    "        R_list.append(R)\n",
    "        Z_list.append(Z)\n",
    "        D_list.append(D)\n",
    "    z+=1\n",
    "    \n",
    "#파일 닫기\n",
    "file.close() \n",
    "\n"
   ]
  },
  {
   "cell_type": "code",
   "execution_count": 5,
   "id": "grand-disclosure",
   "metadata": {},
   "outputs": [
    {
     "name": "stdout",
     "output_type": "stream",
     "text": [
      "모든 데이터수:  18204\n",
      "정제된 데이터 수:  18188\n",
      "정제된 데이터:  16\n"
     ]
    }
   ],
   "source": [
    "print(\"모든 데이터수: \",len(a))\n",
    "print(\"정제된 데이터 수: \",len(R_list))\n",
    "print(\"정제된 데이터: \",len(a)-len(R_list))"
   ]
  },
  {
   "cell_type": "code",
   "execution_count": 6,
   "id": "concrete-testimony",
   "metadata": {},
   "outputs": [
    {
     "data": {
      "text/plain": [
       "18188"
      ]
     },
     "execution_count": 6,
     "metadata": {},
     "output_type": "execute_result"
    }
   ],
   "source": [
    "with open(\"new_tabel.txt\",'r') as ta:\n",
    "    b=ta.readlines()\n",
    "len(b)"
   ]
  },
  {
   "cell_type": "code",
   "execution_count": 7,
   "id": "intended-crest",
   "metadata": {},
   "outputs": [],
   "source": [
    "R=np.array(R_list)\n",
    "Z=np.array(Z_list)\n",
    "D=np.array(D_list)\n",
    "\n",
    "# 오름 차순으로 리스트를 만들어 D_list2에 대입\n",
    "np.sort(D)\n",
    "D_list2=np.sort(D)[::-1]\n",
    "D_lank=D_list2[0:3] # 순위권 3개 인덱싱"
   ]
  },
  {
   "cell_type": "code",
   "execution_count": 8,
   "id": "activated-customs",
   "metadata": {},
   "outputs": [
    {
     "name": "stdout",
     "output_type": "stream",
     "text": [
      "정제된 데이터에서 가장 먼 은하 기준 1~3위는 다음과 같습니다.\n",
      "\n",
      "2907\t번째 데이터 이름 :A0458+6544, 속도: 142360.14285714287\t(Mpc/s)\n",
      "10885\t번째 데이터 이름 :13057+3416, 속도: 142360.0\t(Mpc/s)\n",
      "14245\t번째 데이터 이름 :15533+4143, 속도: 142273.2142857143\t(Mpc/s)\n"
     ]
    }
   ],
   "source": [
    "print(\"정제된 데이터에서 가장 먼 은하 기준 1~3위는 다음과 같습니다.\\n\")\n",
    "z=0\n",
    "while z<3:\n",
    "    n,=(np.where(D==D_lank[z]))\n",
    "    n=int(n)\n",
    "    print(f\"{int(n)}\\t번째 데이터 이름 :{b[n].split()[0]}, 속도: {b[n].split()[3]}\\t(Mpc/s)\")\n",
    "    z+=1"
   ]
  },
  {
   "cell_type": "code",
   "execution_count": 9,
   "id": "level-mumbai",
   "metadata": {},
   "outputs": [],
   "source": [
    "mask1=(R>150)\n",
    "mask2=(0<Z)&(Z<50)\n",
    "mask=mask1*mask2\n",
    "mask=list(mask)\n",
    "\n",
    "# mask에서 1의 갯수를 할수없으니 where함수로 1의 위치를 찾아서 그의 길이를 계산해보려했지만 불가능....."
   ]
  },
  {
   "cell_type": "code",
   "execution_count": 10,
   "id": "french-underwear",
   "metadata": {},
   "outputs": [
    {
     "data": {
      "text/plain": [
       "35"
      ]
     },
     "execution_count": 10,
     "metadata": {},
     "output_type": "execute_result"
    }
   ],
   "source": [
    "mask.count(1)"
   ]
  }
 ],
 "metadata": {
  "kernelspec": {
   "display_name": "Python 3",
   "language": "python",
   "name": "python3"
  },
  "language_info": {
   "codemirror_mode": {
    "name": "ipython",
    "version": 3
   },
   "file_extension": ".py",
   "mimetype": "text/x-python",
   "name": "python",
   "nbconvert_exporter": "python",
   "pygments_lexer": "ipython3",
   "version": "3.8.5"
  }
 },
 "nbformat": 4,
 "nbformat_minor": 5
}
