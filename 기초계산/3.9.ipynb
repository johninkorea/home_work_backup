{
 "cells": [
  {
   "cell_type": "code",
   "execution_count": 10,
   "id": "cooperative-beatles",
   "metadata": {},
   "outputs": [],
   "source": [
    "import numpy as np"
   ]
  },
  {
   "cell_type": "code",
   "execution_count": 12,
   "id": "light-progress",
   "metadata": {},
   "outputs": [
    {
     "name": "stdout",
     "output_type": "stream",
     "text": [
      "당신이 입력한 영문을 mose부호로 바꿔드립니다.(글자와 글자사이' ', 단어와단어사이'  ')\n",
      "영문으로 입력:\n",
      "[]\n",
      "\n",
      "당신이 입력한 mose부호를 영문으로 바꿔드립니다.(글자와 글자사이' ', 단어와단어사이'  ')\n",
      "부호로 입력:\n",
      "\n",
      "[]\n"
     ]
    }
   ],
   "source": [
    "mose={' ':'', 'a':'.-', 'b':'-...', 'c':'-.-.', 'd':'-..', 'e':'.', 'f':'..-.', 'g':'--.', 'h':'....', 'i':'..', 'j':'.---', 'k':'-.-', 'l':'.-..', 'm':'--', 'n':'-.', 'o':'---', 'p':'.--.', 'q':'--.-', 'r':'.-.', 's':'...', 't':'-', 'u':'..-', 'v':'...-', 'w':'.--', 'x':'-..-', 'y':'-.--', 'z':'--..', '1':'.----', '2':'..---', '3':'...--', '4':'....-', '5':'.....', '6':'-....', '7':'--...', '8':'---..', '9':'----.', '0':'-----'}\n",
    "#글자와 글자사이' '\n",
    "#단어와단어사이 '  '\n",
    "print(\"당신이 입력한 영문을 mose부호로 바꿔드립니다.(글자와 글자사이' ', 단어와단어사이'  ')\")\n",
    "word=input(\"영문으로 입력:\")\n",
    "word=list(word)\n",
    "print(word)\n",
    "\n",
    "\n",
    "for z in range (0,len(word)):\n",
    "    print(\"{}\".format(mose[word[z]]), end=' ' if word[z]!=' ' else ' ')\n",
    "\n",
    "\n",
    "\n",
    "'''\n",
    "숫자 딕션 만들기 귀차나서 for문 사용\n",
    "b={}\n",
    "a={'1':'.----', '2':'..---', '3':'...--', '4':'....-', '5':'.....', '6':'-....', '7':'--...', '8':'---..', '9':'----.', '0':'-----'}\n",
    "for k,v in a.items():\n",
    "    b[v]=k\n",
    "print(\"\\n새로운 딕션\",b)\n",
    "'.----': '1', '..---': '2', '...--': '3', '....-': '4', '.....': '5', '-....': '6', '--...': '7', '---..': '8', '----.': '9', '-----': '0'\n",
    "'''\n",
    "\n",
    "\n",
    "\n",
    "\n",
    "\n",
    "nmose={'*':' ', '.-': 'a', '-...': 'b', '-.-.': 'c', '-..': 'd', '.': 'e', '..-.': 'f', '--.': 'g', '....': 'h', '..': 'i', '.---': 'j', '-.-': 'k', '.-..': 'l', '--': 'm', '-.': 'n', '---': 'o', '.--.': 'p', '--.-': 'q', '.-.': 'r', '...': 's', '-': 't', '..-': 'u', '...-': 'v', '.--': 'w', '-..-': 'x', '-.--': 'y', '--..': 'z', '.----': '1', '..---': '2', '...--': '3', '....-': '4', '.....': '5', '-....': '6', '--...': '7', '---..': '8', '----.': '9', '-----': '0'}\n",
    "'''\n",
    "#기존에 딕셔너리를 바꿈\n",
    "for k,v in mose.items():\n",
    "    nmose[v]=k\n",
    "print(\"\\n새로운 딕션\",nmose)\n",
    "\n",
    "#공백부분을 변형 시도   실패\n",
    "nmose.pop('')\n",
    "nmose.update(' '='')\n",
    "print(nmose)\n",
    "'''\n",
    "\n",
    "\n",
    "\n",
    "\n",
    "print(\"\\n당신이 입력한 mose부호를 영문으로 바꿔드립니다.(글자와 글자사이' ', 단어와단어사이'  ')\")\n",
    "nword=input(\"부호로 입력:\")\n",
    "nword=nword.replace('  ',' * ')\n",
    "print(nword)\n",
    "x=[]\n",
    "x=nword.split( )\n",
    "\n",
    "print(x)\n",
    "\n",
    "\n",
    "\n",
    "for z in range (0,len(x)):\n",
    "    print(\"{}\".format(nmose[x[z]]), end='')"
   ]
  },
  {
   "cell_type": "code",
   "execution_count": 19,
   "id": "equipped-sharp",
   "metadata": {},
   "outputs": [
    {
     "data": {
      "text/plain": [
       "{'kim': 67, 'lee': 55, 'part': 93}"
      ]
     },
     "execution_count": 19,
     "metadata": {},
     "output_type": "execute_result"
    }
   ],
   "source": [
    "asd={'kim':67, 'lee':55, 'part':93}\n",
    "\n",
    "asd"
   ]
  },
  {
   "cell_type": "code",
   "execution_count": 21,
   "id": "loaded-monster",
   "metadata": {},
   "outputs": [
    {
     "data": {
      "text/plain": [
       "67"
      ]
     },
     "execution_count": 21,
     "metadata": {},
     "output_type": "execute_result"
    }
   ],
   "source": [
    "asd['kim']"
   ]
  },
  {
   "cell_type": "code",
   "execution_count": 23,
   "id": "harmful-spyware",
   "metadata": {},
   "outputs": [],
   "source": [
    "a=np.array([[1,2],[3,4],[5,6]])"
   ]
  },
  {
   "cell_type": "code",
   "execution_count": 24,
   "id": "coated-governor",
   "metadata": {},
   "outputs": [
    {
     "data": {
      "text/plain": [
       "array([[1, 2],\n",
       "       [3, 4],\n",
       "       [5, 6]])"
      ]
     },
     "execution_count": 24,
     "metadata": {},
     "output_type": "execute_result"
    }
   ],
   "source": [
    "a"
   ]
  },
  {
   "cell_type": "code",
   "execution_count": 25,
   "id": "black-officer",
   "metadata": {},
   "outputs": [
    {
     "data": {
      "text/plain": [
       "[array([1, 2]), array([3, 4]), array([5, 6])]"
      ]
     },
     "execution_count": 25,
     "metadata": {},
     "output_type": "execute_result"
    }
   ],
   "source": [
    "list(a)"
   ]
  }
 ],
 "metadata": {
  "kernelspec": {
   "display_name": "Python 3",
   "language": "python",
   "name": "python3"
  },
  "language_info": {
   "codemirror_mode": {
    "name": "ipython",
    "version": 3
   },
   "file_extension": ".py",
   "mimetype": "text/x-python",
   "name": "python",
   "nbconvert_exporter": "python",
   "pygments_lexer": "ipython3",
   "version": "3.8.5"
  }
 },
 "nbformat": 4,
 "nbformat_minor": 5
}
