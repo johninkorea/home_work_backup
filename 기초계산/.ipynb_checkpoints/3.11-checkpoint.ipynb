{
 "cells": [
  {
   "cell_type": "code",
   "execution_count": 1,
   "id": "exceptional-tuning",
   "metadata": {},
   "outputs": [],
   "source": [
    "import numpy as np"
   ]
  },
  {
   "cell_type": "code",
   "execution_count": 2,
   "id": "aging-cameroon",
   "metadata": {},
   "outputs": [
    {
     "name": "stdout",
     "output_type": "stream",
     "text": [
      "8.382332347441762\n"
     ]
    }
   ],
   "source": [
    "I=[1,2,3,4,5]\n",
    "x=0\n",
    "z=0\n",
    "while z<len(I):\n",
    "    x+=np.sqrt(I[z])\n",
    "    z+=1\n",
    "print(x)"
   ]
  },
  {
   "cell_type": "code",
   "execution_count": 3,
   "id": "adjusted-generation",
   "metadata": {},
   "outputs": [
    {
     "data": {
      "text/plain": [
       "2.8952257852267347"
      ]
     },
     "execution_count": 3,
     "metadata": {},
     "output_type": "execute_result"
    }
   ],
   "source": [
    "a=x**(.5)   #너마핑 어레이를 바로 연산=x**(.5)   #너마핑 어레이를 바로 연산\n",
    "np.mean(a)"
   ]
  },
  {
   "cell_type": "code",
   "execution_count": 4,
   "id": "weird-preserve",
   "metadata": {},
   "outputs": [
    {
     "data": {
      "text/plain": [
       "0.0"
      ]
     },
     "execution_count": 4,
     "metadata": {},
     "output_type": "execute_result"
    }
   ],
   "source": [
    "np.std(a)"
   ]
  },
  {
   "cell_type": "code",
   "execution_count": 5,
   "id": "convinced-order",
   "metadata": {},
   "outputs": [
    {
     "data": {
      "text/plain": [
       "2550"
      ]
     },
     "execution_count": 5,
     "metadata": {},
     "output_type": "execute_result"
    }
   ],
   "source": [
    "sum=0\n",
    "for i in range(1,101):\n",
    "    x=i\n",
    "    if x%2==0:\n",
    "        sum+=x        \n",
    "sum"
   ]
  },
  {
   "cell_type": "code",
   "execution_count": 6,
   "id": "protected-brunswick",
   "metadata": {},
   "outputs": [
    {
     "data": {
      "text/plain": [
       "2550"
      ]
     },
     "execution_count": 6,
     "metadata": {},
     "output_type": "execute_result"
    }
   ],
   "source": [
    "a=np.linspace(1,50,50)\n",
    "a*=2\n",
    "int(np.sum(a))"
   ]
  },
  {
   "cell_type": "code",
   "execution_count": 7,
   "id": "through-amateur",
   "metadata": {},
   "outputs": [
    {
     "ename": "TypeError",
     "evalue": "int() argument must be a string, a bytes-like object or a number, not 'list'",
     "output_type": "error",
     "traceback": [
      "\u001b[0;31m---------------------------------------------------------------------------\u001b[0m",
      "\u001b[0;31mTypeError\u001b[0m                                 Traceback (most recent call last)",
      "\u001b[0;32m<ipython-input-7-8cd3854e7c7d>\u001b[0m in \u001b[0;36m<module>\u001b[0;34m\u001b[0m\n\u001b[1;32m      1\u001b[0m \u001b[0ma\u001b[0m\u001b[0;34m=\u001b[0m\u001b[0;34m'10 20 30 40'\u001b[0m\u001b[0;34m\u001b[0m\u001b[0;34m\u001b[0m\u001b[0m\n\u001b[1;32m      2\u001b[0m \u001b[0ma\u001b[0m\u001b[0;34m=\u001b[0m\u001b[0ma\u001b[0m\u001b[0;34m.\u001b[0m\u001b[0msplit\u001b[0m\u001b[0;34m(\u001b[0m\u001b[0;34m)\u001b[0m\u001b[0;34m\u001b[0m\u001b[0;34m\u001b[0m\u001b[0m\n\u001b[0;32m----> 3\u001b[0;31m \u001b[0mint\u001b[0m\u001b[0;34m(\u001b[0m\u001b[0ma\u001b[0m\u001b[0;34m[\u001b[0m\u001b[0;34m:\u001b[0m\u001b[0;34m]\u001b[0m\u001b[0;34m)\u001b[0m\u001b[0;34m\u001b[0m\u001b[0;34m\u001b[0m\u001b[0m\n\u001b[0m",
      "\u001b[0;31mTypeError\u001b[0m: int() argument must be a string, a bytes-like object or a number, not 'list'"
     ]
    }
   ],
   "source": [
    "a='10 20 30 40'\n",
    "a=a.split()\n",
    "int(a[:])"
   ]
  },
  {
   "cell_type": "code",
   "execution_count": 8,
   "id": "first-aruba",
   "metadata": {},
   "outputs": [
    {
     "name": "stdout",
     "output_type": "stream",
     "text": [
      "[10, 20, 30, 0, 50]\n",
      "<class 'int'>\n"
     ]
    }
   ],
   "source": [
    "a=[]\n",
    "# a.append(map,int(input().split()))\n",
    "l='10 20 30 0 50'\n",
    "\n",
    "a[0:]=map(int,(l.split( )))\n",
    "print(a)\n",
    "print(type(a[0]))"
   ]
  },
  {
   "cell_type": "code",
   "execution_count": 9,
   "id": "indirect-nickname",
   "metadata": {},
   "outputs": [
    {
     "name": "stdout",
     "output_type": "stream",
     "text": [
      "['The Matrix is the world that has been pulled over your eyes to blind you from the truth.\\n', 'You have to let it all go, Neo. Fear, doubt, and disblief. Free your mind.\\n', 'There is a difference between knowing the path and walking the path.\\n', 'Welcom to the desert of the real!\\n']\n",
      "['The Matrix is the world that has been pulled over your eyes to blind you from the truth.\\n', 'You have to let it all go, Neo. Fear, doubt, and disblief. Free your mind.\\n', 'There is a difference between knowing the path and walking the path.\\n', 'Welcom to the desert of the real!\\n']\n",
      "The Matrix is the world that has been pulled over your eyes to blind you from the truth.\n",
      "You have to let it all go, Neo. Fear, doubt, and disblief. Free your mind.\n",
      "There is a difference between knowing the path and walking the path.\n",
      "Welcom to the desert of the real!\n",
      "\n"
     ]
    }
   ],
   "source": [
    "A= [\"The Matrix is the world that has been pulled over your eyes to blind you from the truth.\\n\", \n",
    "\n",
    "                 \"You have to let it all go, Neo. Fear, doubt, and disblief. Free your mind.\\n\", \n",
    "\n",
    "                 \"There is a difference between knowing the path and walking the path.\\n\", \n",
    "\n",
    "                 \"Welcom to the desert of the real!\\n\"]\n",
    "\n",
    "\n",
    "#파일 쓰기 반복문으로\n",
    "with open(\"matrix.txt\",'w') as f:\n",
    "    for line in A:\n",
    "        f.write(line)\\\n",
    "\n",
    "#파일 쓰기 간단한법젼\n",
    "with open(\"matrix2.txt\",'w') as f:\n",
    "    f.writelines(A)\n",
    "\n",
    "#############################3\n",
    "\n",
    "#파일 읽기 반복문 이거는 list로 불러진다.    \n",
    "with open(\"matrix.txt\",'r') as t:\n",
    "    alist=[]\n",
    "    line=t.readline()\n",
    "    \n",
    "    while line!='':\n",
    "        alist.append(line)\n",
    "        line=t.readline()\n",
    "\n",
    "#파일 읽기 간단한 버젼 이거도 list로 불러진다.        \n",
    "with open(\"matrix.txt\",'r') as ta:\n",
    "    a=ta.readlines()\n",
    "\n",
    "\n",
    "#사이트 설명에는 프린트가 없어서 안보였는데 이거를 해줘야 리스트로 저장된 성분이 보인다.\n",
    "#위에서 만든 리스트를 출력하는 부분\n",
    "print(a)\n",
    "print(alist)\n",
    "\n",
    "\n",
    "#이거는 똑 같이 출력을 하는데 txt에서 그대로 \n",
    "with open('matrix.txt', 'r') as MyFile:\n",
    "    MyString = MyFile.read() #문자혀으로 나온다\n",
    "\n",
    "    print(MyString)"
   ]
  },
  {
   "cell_type": "code",
   "execution_count": null,
   "id": "swiss-iraqi",
   "metadata": {},
   "outputs": [],
   "source": [
    "txt파일 가져오는 방법 가져옴\n",
    "그리고 \n",
    "\n",
    "\n",
    "https://m.blog.naver.com/PostView.nhn?blogId=radii26omg&logNo=221205941661&proxyReferer=https:%2F%2Fwww.google.com%2F\n",
    "\n",
    "        \n",
    "여긴 fits파일 아스트로 파이 사용해서 활용하는 방법 나와있는 주소 \n",
    "과제 점수 잘 받자!!"
   ]
  }
 ],
 "metadata": {
  "kernelspec": {
   "display_name": "Python 3",
   "language": "python",
   "name": "python3"
  },
  "language_info": {
   "codemirror_mode": {
    "name": "ipython",
    "version": 3
   },
   "file_extension": ".py",
   "mimetype": "text/x-python",
   "name": "python",
   "nbconvert_exporter": "python",
   "pygments_lexer": "ipython3",
   "version": "3.8.5"
  }
 },
 "nbformat": 4,
 "nbformat_minor": 5
}
