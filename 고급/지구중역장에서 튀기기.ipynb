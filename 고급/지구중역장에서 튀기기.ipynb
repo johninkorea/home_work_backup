{
 "cells": [
  {
   "cell_type": "code",
   "execution_count": 1,
   "id": "operating-runner",
   "metadata": {},
   "outputs": [],
   "source": [
    "# 모듈이 임포트\n",
    "import numpy as np\n",
    "import matplotlib.pyplot as plt\n",
    "from matplotlib.animation import FuncAnimation\n",
    "from matplotlib import rc\n",
    "rc('animation', html='jshtml')"
   ]
  },
  {
   "cell_type": "code",
   "execution_count": 2,
   "id": "arbitrary-sequence",
   "metadata": {},
   "outputs": [],
   "source": [
    "g=9.8; R=6.4e6; Ve=1.12e4\n",
    "v0=Ve/(1.*np.sqrt(2))/1.3; theta=np.pi/8\n",
    "v0x,v0y=v0*np.cos(theta), v0*np.sin(theta)\n",
    "x0,y0=0, R\n",
    "\n",
    "\n",
    "dx=0.00001\n",
    "def f(x,y):\n",
    "    if y>0:\n",
    "        f=np.sqrt(-x**2+R**2)\n",
    "    elif y<0:\n",
    "        f=-np.sqrt(-x**2+R**2)\n",
    "    return f\n",
    "def M(x,y):\n",
    "    m=(f(x+dx,y)-f(x,y))/dx\n",
    "    return m"
   ]
  },
  {
   "cell_type": "code",
   "execution_count": 3,
   "id": "steady-orbit",
   "metadata": {},
   "outputs": [],
   "source": [
    "dt=4.; T=2000\n",
    "x,y=x0,y0\n",
    "vx,vy=v0x,v0y\n",
    "X,Y=[x],[y]\n",
    "\n",
    "n=0\n",
    "k=0\n",
    "while k<T:\n",
    "    x+=vx*dt;y+=vy*dt \n",
    "    r=np.sqrt(x**2+y**2)\n",
    "    ax= -g*R*R*x/(r**3); ay=-g*R*R*y/(r**3)\n",
    "    vx+=ax*dt; vy+=ay*dt \n",
    "    X.append(x)\n",
    "    Y.append(y)\n",
    "    \n",
    "    if (r<R) :\n",
    "        alpha=np.arctan(vy/vx)\n",
    "        m=M(x,y)\n",
    "        dprtm=np.arctan(m)\n",
    "        if (0<np.arctan(y/x)<np.pi/2): \n",
    "            if y>0:\n",
    "                d_dp=dprtm+abs(alpha-dprtm)\n",
    "            elif y<0:\n",
    "                d_dp=dprtm+abs(alpha-dprtm)+np.pi\n",
    "        elif (-(np.pi/2)<np.arctan(y/x)<0): \n",
    "            if y>0:\n",
    "                d_dp=dprtm+abs(alpha-dprtm)\n",
    "            elif y<0:  #4\n",
    "                d_dp=dprtm-np.pi+abs(alpha-dprtm)  \n",
    "        v=np.sqrt(vx**2+vy**2)\n",
    "        vx=v*np.cos(d_dp); vy=v*np.sin(d_dp)\n",
    "        n+=1\n",
    "    k+=1\n"
   ]
  },
  {
   "cell_type": "code",
   "execution_count": 4,
   "id": "strong-bradley",
   "metadata": {},
   "outputs": [
    {
     "data": {
      "text/plain": [
       "[<matplotlib.lines.Line2D at 0x7ff9d24fcf10>]"
      ]
     },
     "execution_count": 4,
     "metadata": {},
     "output_type": "execute_result"
    },
    {
     "data": {
      "image/png": "[encoded data removed]",
      "text/plain": [
       "<Figure size 432x288 with 1 Axes>"
      ]
     },
     "metadata": {
      "needs_background": "light"
     },
     "output_type": "display_data"
    }
   ],
   "source": [
    "a = plt.axes(xlim=(-2*R,2*R),ylim=(-2*R,2*R))\n",
    "c = plt.Circle((0,0),R)\n",
    "a.add_patch(c)\n",
    "plt.axis('equal')\n",
    "plt.plot(X,Y,'r')\n"
   ]
  },
  {
   "cell_type": "code",
   "execution_count": null,
   "id": "thirty-import",
   "metadata": {},
   "outputs": [],
   "source": []
  }
 ],
 "metadata": {
  "kernelspec": {
   "display_name": "Python 3",
   "language": "python",
   "name": "python3"
  },
  "language_info": {
   "codemirror_mode": {
    "name": "ipython",
    "version": 3
   },
   "file_extension": ".py",
   "mimetype": "text/x-python",
   "name": "python",
   "nbconvert_exporter": "python",
   "pygments_lexer": "ipython3",
   "version": "3.8.5"
  }
 },
 "nbformat": 4,
 "nbformat_minor": 5
}
