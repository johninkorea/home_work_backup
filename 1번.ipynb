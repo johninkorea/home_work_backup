{
 "cells": [
  {
   "cell_type": "markdown",
   "id": "effective-classroom",
   "metadata": {},
   "source": [
    "항성 대기 과제 \n",
    "\n",
    "planck 분포 그리기"
   ]
  },
  {
   "cell_type": "code",
   "execution_count": 1,
   "id": "promising-blogger",
   "metadata": {},
   "outputs": [],
   "source": [
    "import numpy as np\n",
    "import matplotlib.pyplot as plt\n",
    "from math import *"
   ]
  },
  {
   "cell_type": "code",
   "execution_count": 2,
   "id": "formal-immune",
   "metadata": {},
   "outputs": [],
   "source": [
    "# 변수 선언\n",
    "h=6.6260755*(10**(-27))  #erg s\n",
    "# c=2.99793458*(10**(10))  #cm/s\n",
    "c=2.99793458*(10**(18))  #A/s\n",
    "k=1.380658*(10**(-16))   #erg/K\n",
    "e=np.e\n",
    "R0=6.95508*(10**(18))  #A\n",
    "\n",
    "\n",
    "\n",
    "\n",
    "num=10**9\n",
    "T=6000     #K\n",
    "T1=30000"
   ]
  },
  {
   "cell_type": "code",
   "execution_count": null,
   "id": "mineral-smart",
   "metadata": {},
   "outputs": [],
   "source": []
  },
  {
   "cell_type": "code",
   "execution_count": null,
   "id": "swedish-equity",
   "metadata": {},
   "outputs": [],
   "source": []
  },
  {
   "cell_type": "code",
   "execution_count": null,
   "id": "controversial-briefing",
   "metadata": {},
   "outputs": [],
   "source": []
  },
  {
   "cell_type": "code",
   "execution_count": null,
   "id": "jewish-stroke",
   "metadata": {},
   "outputs": [],
   "source": [
    "def B_lamda(lamda):\n",
    "    B=num*(2*h*(c**2))*(lamda**-5)/(e**((h*c)/(lamda*k*T))-1)\n",
    "    return B\n",
    "\n",
    "def B_lamda_1(lamda):\n",
    "    B=(2*h*(c**2))*(lamda**-5)/(e**((h*c)/(lamda*k*T1))-1)\n",
    "    return B\n",
    "def B_lamda_10(lamda):\n",
    "    B=10*(2*h*(c**2))*(lamda**-5)/(e**((h*c)/(lamda*k*T1))-1)\n",
    "    return B\n",
    "def B_lamda_100(lamda):\n",
    "    B=100*(2*h*(c**2))*(lamda**-5)/(e**((h*c)/(lamda*k*T1))-1)\n",
    "    return B\n",
    "def B_lamda_1000(lamda):\n",
    "    B=1000*(2*h*(c**2))*(lamda**-5)/(e**((h*c)/(lamda*k*T1))-1)\n",
    "    return B"
   ]
  },
  {
   "cell_type": "code",
   "execution_count": null,
   "id": "stock-communication",
   "metadata": {},
   "outputs": [],
   "source": [
    "\n",
    "\n",
    "S=num*np.pi*((R0)**2)\n",
    "S1=S+np.pi*((50*R0)**2)*1\n",
    "S10=S+np.pi*((50*R0)**2)*10\n",
    "S100=S+np.pi*((50*R0)**2)*100\n",
    "S1000=S+np.pi*((50*R0)**2)*1000\n"
   ]
  },
  {
   "cell_type": "code",
   "execution_count": null,
   "id": "eleven-equipment",
   "metadata": {},
   "outputs": [],
   "source": [
    "lamda=(np.arange(100.,8000.))\n",
    "\n",
    "y=[]\n",
    "y1=[]\n",
    "y10=[]\n",
    "y100=[]\n",
    "y1000=[]\n",
    "\n",
    "z=0\n",
    "while z<len(lamda):\n",
    "    a=log(B_lamda(lamda[z])*S)\n",
    "    a1=log(B_lamda(lamda[z])*S+B_lamda_1(lamda[z])*S1)\n",
    "    a10=log(B_lamda(lamda[z])*S+B_lamda_10(lamda[z])*S10)\n",
    "    a100=log(B_lamda(lamda[z])*S+B_lamda_100(lamda[z])*S100)\n",
    "    a1000=log(B_lamda(lamda[z])*S+B_lamda_1000(lamda[z])*S1000)\n",
    "    \n",
    "    y.append(a)\n",
    "    y1.append(a1)\n",
    "    y10.append(a10)\n",
    "    y100.append(a100)\n",
    "    y1000.append(a1000)\n",
    "    z+=1"
   ]
  },
  {
   "cell_type": "code",
   "execution_count": null,
   "id": "sudden-sleeping",
   "metadata": {},
   "outputs": [],
   "source": [
    "plt.axis([0,8000, 60,130])\n",
    "plt.plot(\n",
    "        lamda,y,\n",
    "        lamda,y1,\n",
    "        lamda,y10,\n",
    "        lamda,y100,\n",
    "        lamda,y1000,\n",
    ")"
   ]
  },
  {
   "cell_type": "code",
   "execution_count": null,
   "id": "cathedral-point",
   "metadata": {},
   "outputs": [],
   "source": []
  },
  {
   "cell_type": "code",
   "execution_count": null,
   "id": "sweet-guinea",
   "metadata": {},
   "outputs": [],
   "source": []
  },
  {
   "cell_type": "code",
   "execution_count": null,
   "id": "impressive-capitol",
   "metadata": {},
   "outputs": [],
   "source": []
  },
  {
   "cell_type": "code",
   "execution_count": null,
   "id": "latin-universal",
   "metadata": {},
   "outputs": [],
   "source": []
  },
  {
   "cell_type": "code",
   "execution_count": null,
   "id": "expected-philadelphia",
   "metadata": {},
   "outputs": [],
   "source": []
  },
  {
   "cell_type": "code",
   "execution_count": 3,
   "id": "biological-attitude",
   "metadata": {},
   "outputs": [],
   "source": [
    "T=[6000, 30000]\n",
    "s=np.pi*((R0)**2)\n",
    "s1=np.pi*((50*R0)**2)"
   ]
  },
  {
   "cell_type": "code",
   "execution_count": 4,
   "id": "unlimited-agenda",
   "metadata": {},
   "outputs": [],
   "source": [
    "def B_lamda(lamda,T):\n",
    "    B=(2*h*(c**2))*(lamda**-5)/(e**((h*c)/(lamda*k*T))-1)\n",
    "    return B"
   ]
  },
  {
   "cell_type": "code",
   "execution_count": 5,
   "id": "rising-manitoba",
   "metadata": {},
   "outputs": [],
   "source": [
    "lamda=(np.arange(100.,8000.))\n",
    "\n",
    "y=[]\n",
    "y1=[]\n",
    "y10=[]\n",
    "y100=[]\n",
    "y1000=[]\n",
    "\n",
    "z=0\n",
    "while z<len(lamda):\n",
    "    b=B_lamda(lamda[z], T[0])*(s*num)\n",
    "    a=log(b)\n",
    "    a1=log(b+B_lamda(lamda[z], T[1])*(s1*1))\n",
    "    a10=log(b+B_lamda(lamda[z], T[1])*(s1*10))\n",
    "    a100=log(b+B_lamda(lamda[z], T[1])*(s1*100))\n",
    "    a1000=log(b+B_lamda(lamda[z], T[1])*(s1*1000))\n",
    "    \n",
    "    y.append(a)\n",
    "    y1.append(a1)\n",
    "    y10.append(a10)\n",
    "    y100.append(a100)\n",
    "    y1000.append(a1000)\n",
    "    z+=1"
   ]
  },
  {
   "cell_type": "code",
   "execution_count": 6,
   "id": "supposed-hazard",
   "metadata": {},
   "outputs": [
    {
     "data": {
      "text/plain": [
       "[<matplotlib.lines.Line2D at 0x7fcf5112a3d0>,\n",
       " <matplotlib.lines.Line2D at 0x7fcf5112a400>,\n",
       " <matplotlib.lines.Line2D at 0x7fcf5112a3a0>,\n",
       " <matplotlib.lines.Line2D at 0x7fcf5112a430>,\n",
       " <matplotlib.lines.Line2D at 0x7fcf5112a640>]"
      ]
     },
     "execution_count": 6,
     "metadata": {},
     "output_type": "execute_result"
    },
    {
     "data": {
      "image/png": "[encoded data removed]",
      "text/plain": [
       "<Figure size 432x288 with 1 Axes>"
      ]
     },
     "metadata": {
      "needs_background": "light"
     },
     "output_type": "display_data"
    }
   ],
   "source": [
    "plt.axis([0,8000, 70,100])\n",
    "plt.plot(\n",
    "        lamda,y,\n",
    "        lamda,y1,\n",
    "        lamda,y10,\n",
    "        lamda,y100,\n",
    "        lamda,y1000,\n",
    ")"
   ]
  },
  {
   "cell_type": "code",
   "execution_count": null,
   "id": "desperate-photograph",
   "metadata": {},
   "outputs": [],
   "source": []
  },
  {
   "cell_type": "code",
   "execution_count": null,
   "id": "posted-optics",
   "metadata": {},
   "outputs": [],
   "source": []
  }
 ],
 "metadata": {
  "kernelspec": {
   "display_name": "Python 3",
   "language": "python",
   "name": "python3"
  },
  "language_info": {
   "codemirror_mode": {
    "name": "ipython",
    "version": 3
   },
   "file_extension": ".py",
   "mimetype": "text/x-python",
   "name": "python",
   "nbconvert_exporter": "python",
   "pygments_lexer": "ipython3",
   "version": "3.8.5"
  }
 },
 "nbformat": 4,
 "nbformat_minor": 5
}
