{
 "cells": [
  {
   "cell_type": "markdown",
   "id": "effective-classroom",
   "metadata": {},
   "source": [
    "항성 대기 과제 \n",
    "\n",
    "planck 분포 그리기\n",
    "\n",
    "은하의 경우 자외선 초과"
   ]
  },
  {
   "cell_type": "code",
   "execution_count": 1,
   "id": "proud-lyric",
   "metadata": {},
   "outputs": [],
   "source": [
    "# import modules.\n",
    "import numpy as np\n",
    "import matplotlib.pyplot as plt"
   ]
  },
  {
   "cell_type": "code",
   "execution_count": 2,
   "id": "formal-rugby",
   "metadata": {},
   "outputs": [],
   "source": [
    "# Define constants.\n",
    "h=6.6260755*(1e-27)  #Planck constant(erg s)\n",
    "k=1.380658*(1e-16)   #Boltzmaann constant(erg/K)\n",
    "e=np.e               #Euler's constant\n",
    "num=1e9              #Number of stars\n",
    "T=[6e3, 3e4]        #Temperature of sun and BHB(K)\n",
    "c=2.99793458*(1e10)  #Speed of light(cm/s)\n",
    "R0=6.95508*(1e10)  #Solar radius(cm)\n",
    "\n",
    "s=np.pi*((R0)**2)      #square measure of sun\n",
    "s1=np.pi*((50*R0)**2)  #square measure of BHB\n",
    "\n",
    "lamda=np.linspace(1e-10, 8e-5, 1000)   #define range of lamda"
   ]
  },
  {
   "cell_type": "code",
   "execution_count": 3,
   "id": "hungry-blocking",
   "metadata": {},
   "outputs": [],
   "source": [
    "#define b_lamda to (planck distribution)*(square measure*number of star)\n",
    "def B_lamda(lamda,Temperature,square_measure,number_of_star):#Define (function planck distribution)*(square_measure*number).\n",
    "    B=(square_measure*number_of_star)*(2*h*(c**2))*(lamda**-5)/(e**((h*c)/(lamda*k*Temperature))-1)\n",
    "    return B"
   ]
  },
  {
   "cell_type": "code",
   "execution_count": 4,
   "id": "desperate-photograph",
   "metadata": {},
   "outputs": [
    {
     "name": "stderr",
     "output_type": "stream",
     "text": [
      "<ipython-input-3-454616ac01c0>:3: RuntimeWarning: overflow encountered in double_scalars\n",
      "  B=(square_measure*number_of_star)*(2*h*(c**2))*(lamda**-5)/(e**((h*c)/(lamda*k*Temperature))-1)\n",
      "<ipython-input-4-911862a0807c>:12: RuntimeWarning: divide by zero encountered in log10\n",
      "  a=np.log10(B_lamda(lamda[z], T[0],s,num))\n",
      "<ipython-input-4-911862a0807c>:13: RuntimeWarning: divide by zero encountered in log10\n",
      "  a1=np.log10(B_lamda(lamda[z], T[0],s,num)+B_lamda(lamda[z], T[1],s1,1))\n",
      "<ipython-input-4-911862a0807c>:14: RuntimeWarning: divide by zero encountered in log10\n",
      "  a10=np.log10(B_lamda(lamda[z], T[0],s,num)+B_lamda(lamda[z], T[1],s1,10))\n",
      "<ipython-input-4-911862a0807c>:15: RuntimeWarning: divide by zero encountered in log10\n",
      "  a100=np.log10(B_lamda(lamda[z], T[0],s,num)+B_lamda(lamda[z], T[1],s1,100))\n",
      "<ipython-input-4-911862a0807c>:16: RuntimeWarning: divide by zero encountered in log10\n",
      "  a1000=np.log10(B_lamda(lamda[z], T[0],s,num)+B_lamda(lamda[z], T[1],s1,1000))\n"
     ]
    }
   ],
   "source": [
    "# Define list that be append result of function.\n",
    "x=[]\n",
    "y=[]      \n",
    "y1=[]\n",
    "y10=[]\n",
    "y100=[]\n",
    "y1000=[]\n",
    "\n",
    "# make results whith using while.\n",
    "z=0\n",
    "while z<len(lamda):\n",
    "    a=np.log10(B_lamda(lamda[z], T[0],s,num))\n",
    "    a1=np.log10(B_lamda(lamda[z], T[0],s,num)+B_lamda(lamda[z], T[1],s1,1))\n",
    "    a10=np.log10(B_lamda(lamda[z], T[0],s,num)+B_lamda(lamda[z], T[1],s1,10))\n",
    "    a100=np.log10(B_lamda(lamda[z], T[0],s,num)+B_lamda(lamda[z], T[1],s1,100))\n",
    "    a1000=np.log10(B_lamda(lamda[z], T[0],s,num)+B_lamda(lamda[z], T[1],s1,1000))\n",
    "    \n",
    "    x.append(lamda[z]*(1e8))   # make lamda to  Ångström scale.\n",
    "    y.append(a)\n",
    "    y1.append(a1)\n",
    "    y10.append(a10)\n",
    "    y100.append(a100)\n",
    "    y1000.append(a1000)\n",
    "    z+=1"
   ]
  },
  {
   "cell_type": "code",
   "execution_count": 5,
   "id": "direct-seafood",
   "metadata": {},
   "outputs": [
    {
     "data": {
      "text/plain": [
       "<matplotlib.legend.Legend at 0x7f674d8fc3d0>"
      ]
     },
     "execution_count": 5,
     "metadata": {},
     "output_type": "execute_result"
    },
    {
     "data": {
      "image/png": "[encoded data removed]",
      "text/plain": [
       "<Figure size 432x288 with 1 Axes>"
      ]
     },
     "metadata": {
      "needs_background": "light"
     },
     "output_type": "display_data"
    }
   ],
   "source": [
    "# plot the results.\n",
    "plt.axis([0, 8e3, 40,48])\n",
    "plt.title('The UV-upturn')\n",
    "plt.xlabel('λ(Å)')\n",
    "plt.ylabel('log Bλ(erg/Å/s/sr)')\n",
    "plt.plot(x,y,label='10^9 Sun')\n",
    "plt.plot(x,y1,label='10^9 Sun + 1BHB')\n",
    "plt.plot(x,y10,label='10^9 Sun + 10BHB')\n",
    "plt.plot(x,y100,label='10^9 Sun + 100BHB')\n",
    "plt.plot(x,y1000,label='10^9 Sun + 1000BHB')\n",
    "plt.legend(loc='best')"
   ]
  },
  {
   "cell_type": "code",
   "execution_count": null,
   "id": "fallen-sentence",
   "metadata": {},
   "outputs": [],
   "source": []
  }
 ],
 "metadata": {
  "kernelspec": {
   "display_name": "Python 3",
   "language": "python",
   "name": "python3"
  },
  "language_info": {
   "codemirror_mode": {
    "name": "ipython",
    "version": 3
   },
   "file_extension": ".py",
   "mimetype": "text/x-python",
   "name": "python",
   "nbconvert_exporter": "python",
   "pygments_lexer": "ipython3",
   "version": "3.8.5"
  }
 },
 "nbformat": 4,
 "nbformat_minor": 5
}
