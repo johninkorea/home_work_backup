{
 "cells": [
  {
   "cell_type": "code",
   "execution_count": 1,
   "id": "designed-sheet",
   "metadata": {},
   "outputs": [],
   "source": [
    "\n",
    "import numpy as np\n",
    "import matplotlib.pyplot as plt\n",
    "from math import *"
   ]
  },
  {
   "cell_type": "code",
   "execution_count": 2,
   "id": "adequate-timothy",
   "metadata": {},
   "outputs": [],
   "source": [
    "# 변수 선언\n",
    "h=6.6260755*(10**(-27))  #erg s\n",
    "# c=2.99793458*(10**(10))  #cm/s\n",
    "c=2.99793458*(10**(18))  #A/s\n",
    "k=1.380658*(10**(-16))   #erg/K\n",
    "e=np.e\n",
    "R0=6.95508*(10**(18))  #A\n",
    "\n",
    "TS=10000\n",
    "Rs=10*R0\n",
    "SS=np.pi*Rs**2"
   ]
  },
  {
   "cell_type": "code",
   "execution_count": 3,
   "id": "valuable-horror",
   "metadata": {},
   "outputs": [],
   "source": [
    "R1=100*R0\n",
    "R2=10000*R0\n",
    "\n",
    "S=np.pi*((R2**2)-(R1**2))"
   ]
  },
  {
   "cell_type": "code",
   "execution_count": 4,
   "id": "split-remove",
   "metadata": {},
   "outputs": [],
   "source": [
    "# T1=250\n",
    "# T2=500\n",
    "# T3=1000\n",
    "T=[250, 500, 1000]"
   ]
  },
  {
   "cell_type": "code",
   "execution_count": 5,
   "id": "plain-casting",
   "metadata": {},
   "outputs": [],
   "source": [
    "def B_lamda(lamda,T):\n",
    "    B=(2*h*(c**2))*(lamda**-5)/(e**((h*c)/(lamda*k*T))-1)\n",
    "    return B"
   ]
  },
  {
   "cell_type": "code",
   "execution_count": 6,
   "id": "developing-burst",
   "metadata": {},
   "outputs": [],
   "source": [
    "lamda=np.linspace(10e2,10e6, 1000000)\n",
    "\n",
    "y=[]\n",
    "y1=[]\n",
    "y2=[]\n",
    "y3=[]\n",
    "x=[]\n",
    "\n",
    "z=0\n",
    "while z<len(lamda):\n",
    "    a=log(B_lamda(lamda[z],TS)*SS)\n",
    "    a1=log(B_lamda(lamda[z],TS)*SS+B_lamda(lamda[z],T[0])*S)\n",
    "    a2=log(B_lamda(lamda[z],TS)*SS+B_lamda(lamda[z],T[1])*S)\n",
    "    a3=log(B_lamda(lamda[z],TS)*SS+B_lamda(lamda[z],T[2])*S)\n",
    "    \n",
    "    x.append(log(lamda[z]))\n",
    "    y.append(a)\n",
    "    y1.append(a1)\n",
    "    y2.append(a2)\n",
    "    y3.append(a3)\n",
    "    z+=1"
   ]
  },
  {
   "cell_type": "code",
   "execution_count": 7,
   "id": "equipped-aerospace",
   "metadata": {},
   "outputs": [
    {
     "data": {
      "text/plain": [
       "[<matplotlib.lines.Line2D at 0x7f8e902e80a0>,\n",
       " <matplotlib.lines.Line2D at 0x7f8e902e8490>,\n",
       " <matplotlib.lines.Line2D at 0x7f8e902c13a0>,\n",
       " <matplotlib.lines.Line2D at 0x7f8e95a51910>]"
      ]
     },
     "execution_count": 7,
     "metadata": {},
     "output_type": "execute_result"
    },
    {
     "data": {
      "image/png": "[encoded data removed]",
      "text/plain": [
       "<Figure size 432x288 with 1 Axes>"
      ]
     },
     "metadata": {
      "needs_background": "light"
     },
     "output_type": "display_data"
    }
   ],
   "source": [
    "# plt.axis([0,8000, 60,130])\n",
    "plt.plot(\n",
    "        x,y,\n",
    "        x,y1,\n",
    "        x,y2,\n",
    "        x,y3\n",
    "        )"
   ]
  },
  {
   "cell_type": "code",
   "execution_count": null,
   "id": "lesser-halifax",
   "metadata": {},
   "outputs": [],
   "source": []
  },
  {
   "cell_type": "code",
   "execution_count": null,
   "id": "tamil-stranger",
   "metadata": {},
   "outputs": [],
   "source": []
  }
 ],
 "metadata": {
  "kernelspec": {
   "display_name": "Python 3",
   "language": "python",
   "name": "python3"
  },
  "language_info": {
   "codemirror_mode": {
    "name": "ipython",
    "version": 3
   },
   "file_extension": ".py",
   "mimetype": "text/x-python",
   "name": "python",
   "nbconvert_exporter": "python",
   "pygments_lexer": "ipython3",
   "version": "3.8.5"
  }
 },
 "nbformat": 4,
 "nbformat_minor": 5
}
